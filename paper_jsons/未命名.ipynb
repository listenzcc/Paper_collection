{
 "cells": [
  {
   "cell_type": "code",
   "execution_count": 3,
   "metadata": {},
   "outputs": [],
   "source": [
    "import pandas as pd"
   ]
  },
  {
   "cell_type": "code",
   "execution_count": 4,
   "metadata": {},
   "outputs": [],
   "source": [
    "df = pd.DataFrame()"
   ]
  },
  {
   "cell_type": "code",
   "execution_count": 5,
   "metadata": {},
   "outputs": [
    {
     "data": {
      "text/html": [
       "<div>\n",
       "<style scoped>\n",
       "    .dataframe tbody tr th:only-of-type {\n",
       "        vertical-align: middle;\n",
       "    }\n",
       "\n",
       "    .dataframe tbody tr th {\n",
       "        vertical-align: top;\n",
       "    }\n",
       "\n",
       "    .dataframe thead th {\n",
       "        text-align: right;\n",
       "    }\n",
       "</style>\n",
       "<table border=\"1\" class=\"dataframe\">\n",
       "  <thead>\n",
       "    <tr style=\"text-align: right;\">\n",
       "      <th></th>\n",
       "      <th>a</th>\n",
       "      <th>b</th>\n",
       "    </tr>\n",
       "  </thead>\n",
       "  <tbody>\n",
       "    <tr>\n",
       "      <th>aa</th>\n",
       "      <td>1.0</td>\n",
       "      <td>2.0</td>\n",
       "    </tr>\n",
       "  </tbody>\n",
       "</table>\n",
       "</div>"
      ],
      "text/plain": [
       "      a    b\n",
       "aa  1.0  2.0"
      ]
     },
     "execution_count": 5,
     "metadata": {},
     "output_type": "execute_result"
    }
   ],
   "source": [
    "df = df.append(pd.Series(dict(a=1, b=2), name='aa'))\n",
    "df"
   ]
  },
  {
   "cell_type": "code",
   "execution_count": 6,
   "metadata": {},
   "outputs": [
    {
     "data": {
      "text/html": [
       "<div>\n",
       "<style scoped>\n",
       "    .dataframe tbody tr th:only-of-type {\n",
       "        vertical-align: middle;\n",
       "    }\n",
       "\n",
       "    .dataframe tbody tr th {\n",
       "        vertical-align: top;\n",
       "    }\n",
       "\n",
       "    .dataframe thead th {\n",
       "        text-align: right;\n",
       "    }\n",
       "</style>\n",
       "<table border=\"1\" class=\"dataframe\">\n",
       "  <thead>\n",
       "    <tr style=\"text-align: right;\">\n",
       "      <th></th>\n",
       "      <th>a</th>\n",
       "      <th>b</th>\n",
       "      <th>c</th>\n",
       "      <th>d</th>\n",
       "    </tr>\n",
       "  </thead>\n",
       "  <tbody>\n",
       "    <tr>\n",
       "      <th>aa</th>\n",
       "      <td>1.0</td>\n",
       "      <td>2.0</td>\n",
       "      <td>NaN</td>\n",
       "      <td>NaN</td>\n",
       "    </tr>\n",
       "    <tr>\n",
       "      <th>aa</th>\n",
       "      <td>NaN</td>\n",
       "      <td>NaN</td>\n",
       "      <td>1.0</td>\n",
       "      <td>2.0</td>\n",
       "    </tr>\n",
       "  </tbody>\n",
       "</table>\n",
       "</div>"
      ],
      "text/plain": [
       "      a    b    c    d\n",
       "aa  1.0  2.0  NaN  NaN\n",
       "aa  NaN  NaN  1.0  2.0"
      ]
     },
     "execution_count": 6,
     "metadata": {},
     "output_type": "execute_result"
    }
   ],
   "source": [
    "df = df.append(pd.Series(dict(c=1, d=2), name='aa'))\n",
    "df"
   ]
  },
  {
   "cell_type": "code",
   "execution_count": 7,
   "metadata": {},
   "outputs": [
    {
     "data": {
      "text/html": [
       "<div>\n",
       "<style scoped>\n",
       "    .dataframe tbody tr th:only-of-type {\n",
       "        vertical-align: middle;\n",
       "    }\n",
       "\n",
       "    .dataframe tbody tr th {\n",
       "        vertical-align: top;\n",
       "    }\n",
       "\n",
       "    .dataframe thead th {\n",
       "        text-align: right;\n",
       "    }\n",
       "</style>\n",
       "<table border=\"1\" class=\"dataframe\">\n",
       "  <thead>\n",
       "    <tr style=\"text-align: right;\">\n",
       "      <th></th>\n",
       "      <th>a</th>\n",
       "      <th>b</th>\n",
       "      <th>c</th>\n",
       "      <th>d</th>\n",
       "    </tr>\n",
       "  </thead>\n",
       "  <tbody>\n",
       "    <tr>\n",
       "      <th>aa</th>\n",
       "      <td>False</td>\n",
       "      <td>False</td>\n",
       "      <td>True</td>\n",
       "      <td>True</td>\n",
       "    </tr>\n",
       "    <tr>\n",
       "      <th>aa</th>\n",
       "      <td>True</td>\n",
       "      <td>True</td>\n",
       "      <td>False</td>\n",
       "      <td>False</td>\n",
       "    </tr>\n",
       "  </tbody>\n",
       "</table>\n",
       "</div>"
      ],
      "text/plain": [
       "        a      b      c      d\n",
       "aa  False  False   True   True\n",
       "aa   True   True  False  False"
      ]
     },
     "execution_count": 7,
     "metadata": {},
     "output_type": "execute_result"
    }
   ],
   "source": [
    "df.isna()"
   ]
  },
  {
   "cell_type": "code",
   "execution_count": 8,
   "metadata": {},
   "outputs": [],
   "source": [
    "df[df.isna()] = '--'"
   ]
  },
  {
   "cell_type": "code",
   "execution_count": 21,
   "metadata": {},
   "outputs": [
    {
     "data": {
      "text/html": [
       "<div>\n",
       "<style scoped>\n",
       "    .dataframe tbody tr th:only-of-type {\n",
       "        vertical-align: middle;\n",
       "    }\n",
       "\n",
       "    .dataframe tbody tr th {\n",
       "        vertical-align: top;\n",
       "    }\n",
       "\n",
       "    .dataframe thead th {\n",
       "        text-align: right;\n",
       "    }\n",
       "</style>\n",
       "<table border=\"1\" class=\"dataframe\">\n",
       "  <thead>\n",
       "    <tr style=\"text-align: right;\">\n",
       "      <th></th>\n",
       "      <th>a</th>\n",
       "      <th>b</th>\n",
       "      <th>c</th>\n",
       "      <th>d</th>\n",
       "    </tr>\n",
       "  </thead>\n",
       "  <tbody>\n",
       "  </tbody>\n",
       "</table>\n",
       "</div>"
      ],
      "text/plain": [
       "Empty DataFrame\n",
       "Columns: [a, b, c, d]\n",
       "Index: []"
      ]
     },
     "execution_count": 21,
     "metadata": {},
     "output_type": "execute_result"
    }
   ],
   "source": [
    "df"
   ]
  },
  {
   "cell_type": "code",
   "execution_count": 10,
   "metadata": {},
   "outputs": [],
   "source": [
    "a = dict(a=1, b=2)"
   ]
  },
  {
   "cell_type": "code",
   "execution_count": 11,
   "metadata": {},
   "outputs": [
    {
     "data": {
      "text/plain": [
       "{'a': 1, 'b': 2}"
      ]
     },
     "execution_count": 11,
     "metadata": {},
     "output_type": "execute_result"
    }
   ],
   "source": [
    "a"
   ]
  },
  {
   "cell_type": "code",
   "execution_count": 20,
   "metadata": {},
   "outputs": [],
   "source": [
    "df.drop(index='aa', inplace=True)"
   ]
  },
  {
   "cell_type": "code",
   "execution_count": 19,
   "metadata": {},
   "outputs": [
    {
     "data": {
      "text/plain": [
       "Exception('aaa')"
      ]
     },
     "execution_count": 19,
     "metadata": {},
     "output_type": "execute_result"
    }
   ],
   "source": [
    "Exception('aaa')"
   ]
  },
  {
   "cell_type": "code",
   "execution_count": 20,
   "metadata": {},
   "outputs": [
    {
     "data": {
      "text/html": [
       "<div>\n",
       "<style scoped>\n",
       "    .dataframe tbody tr th:only-of-type {\n",
       "        vertical-align: middle;\n",
       "    }\n",
       "\n",
       "    .dataframe tbody tr th {\n",
       "        vertical-align: top;\n",
       "    }\n",
       "\n",
       "    .dataframe thead th {\n",
       "        text-align: right;\n",
       "    }\n",
       "</style>\n",
       "<table border=\"1\" class=\"dataframe\">\n",
       "  <thead>\n",
       "    <tr style=\"text-align: right;\">\n",
       "      <th></th>\n",
       "      <th>a</th>\n",
       "      <th>b</th>\n",
       "      <th>c</th>\n",
       "      <th>d</th>\n",
       "    </tr>\n",
       "  </thead>\n",
       "  <tbody>\n",
       "    <tr>\n",
       "      <th>aa</th>\n",
       "      <td>1</td>\n",
       "      <td>2</td>\n",
       "      <td>--</td>\n",
       "      <td>--</td>\n",
       "    </tr>\n",
       "    <tr>\n",
       "      <th>aa</th>\n",
       "      <td>1</td>\n",
       "      <td>2</td>\n",
       "      <td>--</td>\n",
       "      <td>--</td>\n",
       "    </tr>\n",
       "    <tr>\n",
       "      <th>aa</th>\n",
       "      <td>--</td>\n",
       "      <td>--</td>\n",
       "      <td>1</td>\n",
       "      <td>2</td>\n",
       "    </tr>\n",
       "  </tbody>\n",
       "</table>\n",
       "</div>"
      ],
      "text/plain": [
       "     a   b   c   d\n",
       "aa   1   2  --  --\n",
       "aa   1   2  --  --\n",
       "aa  --  --   1   2"
      ]
     },
     "execution_count": 20,
     "metadata": {},
     "output_type": "execute_result"
    }
   ],
   "source": [
    "df"
   ]
  },
  {
   "cell_type": "code",
   "execution_count": 21,
   "metadata": {},
   "outputs": [
    {
     "data": {
      "text/html": [
       "<div>\n",
       "<style scoped>\n",
       "    .dataframe tbody tr th:only-of-type {\n",
       "        vertical-align: middle;\n",
       "    }\n",
       "\n",
       "    .dataframe tbody tr th {\n",
       "        vertical-align: top;\n",
       "    }\n",
       "\n",
       "    .dataframe thead th {\n",
       "        text-align: right;\n",
       "    }\n",
       "</style>\n",
       "<table border=\"1\" class=\"dataframe\">\n",
       "  <thead>\n",
       "    <tr style=\"text-align: right;\">\n",
       "      <th></th>\n",
       "      <th>a</th>\n",
       "      <th>b</th>\n",
       "      <th>c</th>\n",
       "      <th>d</th>\n",
       "    </tr>\n",
       "  </thead>\n",
       "  <tbody>\n",
       "    <tr>\n",
       "      <th>aa</th>\n",
       "      <td>1</td>\n",
       "      <td>2</td>\n",
       "      <td>--</td>\n",
       "      <td>--</td>\n",
       "    </tr>\n",
       "    <tr>\n",
       "      <th>aa</th>\n",
       "      <td>1</td>\n",
       "      <td>2</td>\n",
       "      <td>--</td>\n",
       "      <td>--</td>\n",
       "    </tr>\n",
       "    <tr>\n",
       "      <th>aa</th>\n",
       "      <td>--</td>\n",
       "      <td>--</td>\n",
       "      <td>1</td>\n",
       "      <td>2</td>\n",
       "    </tr>\n",
       "  </tbody>\n",
       "</table>\n",
       "</div>"
      ],
      "text/plain": [
       "     a   b   c   d\n",
       "aa   1   2  --  --\n",
       "aa   1   2  --  --\n",
       "aa  --  --   1   2"
      ]
     },
     "execution_count": 21,
     "metadata": {},
     "output_type": "execute_result"
    }
   ],
   "source": [
    "df.loc['aa']"
   ]
  },
  {
   "cell_type": "code",
   "execution_count": 26,
   "metadata": {},
   "outputs": [],
   "source": [
    "df = df.append(pd.Series(name='c'))"
   ]
  },
  {
   "cell_type": "code",
   "execution_count": 28,
   "metadata": {},
   "outputs": [],
   "source": [
    "df.loc['c']['a'] = 'a'"
   ]
  },
  {
   "cell_type": "code",
   "execution_count": 29,
   "metadata": {},
   "outputs": [
    {
     "data": {
      "text/html": [
       "<div>\n",
       "<style scoped>\n",
       "    .dataframe tbody tr th:only-of-type {\n",
       "        vertical-align: middle;\n",
       "    }\n",
       "\n",
       "    .dataframe tbody tr th {\n",
       "        vertical-align: top;\n",
       "    }\n",
       "\n",
       "    .dataframe thead th {\n",
       "        text-align: right;\n",
       "    }\n",
       "</style>\n",
       "<table border=\"1\" class=\"dataframe\">\n",
       "  <thead>\n",
       "    <tr style=\"text-align: right;\">\n",
       "      <th></th>\n",
       "      <th>a</th>\n",
       "      <th>b</th>\n",
       "      <th>c</th>\n",
       "      <th>d</th>\n",
       "    </tr>\n",
       "  </thead>\n",
       "  <tbody>\n",
       "    <tr>\n",
       "      <th>aa</th>\n",
       "      <td>1</td>\n",
       "      <td>2</td>\n",
       "      <td>--</td>\n",
       "      <td>--</td>\n",
       "    </tr>\n",
       "    <tr>\n",
       "      <th>aa</th>\n",
       "      <td>1</td>\n",
       "      <td>2</td>\n",
       "      <td>--</td>\n",
       "      <td>--</td>\n",
       "    </tr>\n",
       "    <tr>\n",
       "      <th>aa</th>\n",
       "      <td>--</td>\n",
       "      <td>--</td>\n",
       "      <td>1</td>\n",
       "      <td>2</td>\n",
       "    </tr>\n",
       "    <tr>\n",
       "      <th>c</th>\n",
       "      <td>a</td>\n",
       "      <td>NaN</td>\n",
       "      <td>NaN</td>\n",
       "      <td>NaN</td>\n",
       "    </tr>\n",
       "  </tbody>\n",
       "</table>\n",
       "</div>"
      ],
      "text/plain": [
       "     a    b    c    d\n",
       "aa   1    2   --   --\n",
       "aa   1    2   --   --\n",
       "aa  --   --    1    2\n",
       "c    a  NaN  NaN  NaN"
      ]
     },
     "execution_count": 29,
     "metadata": {},
     "output_type": "execute_result"
    }
   ],
   "source": [
    "df"
   ]
  },
  {
   "cell_type": "code",
   "execution_count": 31,
   "metadata": {},
   "outputs": [
    {
     "data": {
      "text/plain": [
       "True"
      ]
     },
     "execution_count": 31,
     "metadata": {},
     "output_type": "execute_result"
    }
   ],
   "source": [
    "'aa' in df.index"
   ]
  },
  {
   "cell_type": "code",
   "execution_count": 32,
   "metadata": {},
   "outputs": [],
   "source": [
    "se = df.loc['c']"
   ]
  },
  {
   "cell_type": "code",
   "execution_count": 33,
   "metadata": {},
   "outputs": [
    {
     "data": {
      "text/plain": [
       "a      a\n",
       "b    NaN\n",
       "c    NaN\n",
       "d    NaN\n",
       "Name: c, dtype: object"
      ]
     },
     "execution_count": 33,
     "metadata": {},
     "output_type": "execute_result"
    }
   ],
   "source": [
    "se"
   ]
  },
  {
   "cell_type": "code",
   "execution_count": 34,
   "metadata": {},
   "outputs": [
    {
     "data": {
      "text/html": [
       "<div>\n",
       "<style scoped>\n",
       "    .dataframe tbody tr th:only-of-type {\n",
       "        vertical-align: middle;\n",
       "    }\n",
       "\n",
       "    .dataframe tbody tr th {\n",
       "        vertical-align: top;\n",
       "    }\n",
       "\n",
       "    .dataframe thead th {\n",
       "        text-align: right;\n",
       "    }\n",
       "</style>\n",
       "<table border=\"1\" class=\"dataframe\">\n",
       "  <thead>\n",
       "    <tr style=\"text-align: right;\">\n",
       "      <th></th>\n",
       "      <th>a</th>\n",
       "      <th>b</th>\n",
       "      <th>c</th>\n",
       "      <th>d</th>\n",
       "    </tr>\n",
       "  </thead>\n",
       "  <tbody>\n",
       "    <tr>\n",
       "      <th>aa</th>\n",
       "      <td>1</td>\n",
       "      <td>2</td>\n",
       "      <td>--</td>\n",
       "      <td>--</td>\n",
       "    </tr>\n",
       "    <tr>\n",
       "      <th>aa</th>\n",
       "      <td>1</td>\n",
       "      <td>2</td>\n",
       "      <td>--</td>\n",
       "      <td>--</td>\n",
       "    </tr>\n",
       "    <tr>\n",
       "      <th>aa</th>\n",
       "      <td>--</td>\n",
       "      <td>--</td>\n",
       "      <td>1</td>\n",
       "      <td>2</td>\n",
       "    </tr>\n",
       "    <tr>\n",
       "      <th>c</th>\n",
       "      <td>a</td>\n",
       "      <td>NaN</td>\n",
       "      <td>NaN</td>\n",
       "      <td>NaN</td>\n",
       "    </tr>\n",
       "  </tbody>\n",
       "</table>\n",
       "</div>"
      ],
      "text/plain": [
       "     a    b    c    d\n",
       "aa   1    2   --   --\n",
       "aa   1    2   --   --\n",
       "aa  --   --    1    2\n",
       "c    a  NaN  NaN  NaN"
      ]
     },
     "execution_count": 34,
     "metadata": {},
     "output_type": "execute_result"
    }
   ],
   "source": [
    "df"
   ]
  },
  {
   "cell_type": "code",
   "execution_count": 35,
   "metadata": {},
   "outputs": [],
   "source": [
    "se['b'] = 'b'"
   ]
  },
  {
   "cell_type": "code",
   "execution_count": 36,
   "metadata": {},
   "outputs": [
    {
     "data": {
      "text/html": [
       "<div>\n",
       "<style scoped>\n",
       "    .dataframe tbody tr th:only-of-type {\n",
       "        vertical-align: middle;\n",
       "    }\n",
       "\n",
       "    .dataframe tbody tr th {\n",
       "        vertical-align: top;\n",
       "    }\n",
       "\n",
       "    .dataframe thead th {\n",
       "        text-align: right;\n",
       "    }\n",
       "</style>\n",
       "<table border=\"1\" class=\"dataframe\">\n",
       "  <thead>\n",
       "    <tr style=\"text-align: right;\">\n",
       "      <th></th>\n",
       "      <th>a</th>\n",
       "      <th>b</th>\n",
       "      <th>c</th>\n",
       "      <th>d</th>\n",
       "    </tr>\n",
       "  </thead>\n",
       "  <tbody>\n",
       "    <tr>\n",
       "      <th>aa</th>\n",
       "      <td>1</td>\n",
       "      <td>2</td>\n",
       "      <td>--</td>\n",
       "      <td>--</td>\n",
       "    </tr>\n",
       "    <tr>\n",
       "      <th>aa</th>\n",
       "      <td>1</td>\n",
       "      <td>2</td>\n",
       "      <td>--</td>\n",
       "      <td>--</td>\n",
       "    </tr>\n",
       "    <tr>\n",
       "      <th>aa</th>\n",
       "      <td>--</td>\n",
       "      <td>--</td>\n",
       "      <td>1</td>\n",
       "      <td>2</td>\n",
       "    </tr>\n",
       "    <tr>\n",
       "      <th>c</th>\n",
       "      <td>a</td>\n",
       "      <td>b</td>\n",
       "      <td>NaN</td>\n",
       "      <td>NaN</td>\n",
       "    </tr>\n",
       "  </tbody>\n",
       "</table>\n",
       "</div>"
      ],
      "text/plain": [
       "     a   b    c    d\n",
       "aa   1   2   --   --\n",
       "aa   1   2   --   --\n",
       "aa  --  --    1    2\n",
       "c    a   b  NaN  NaN"
      ]
     },
     "execution_count": 36,
     "metadata": {},
     "output_type": "execute_result"
    }
   ],
   "source": [
    "df"
   ]
  },
  {
   "cell_type": "code",
   "execution_count": 1,
   "metadata": {},
   "outputs": [],
   "source": [
    "import os"
   ]
  },
  {
   "cell_type": "code",
   "execution_count": 2,
   "metadata": {},
   "outputs": [
    {
     "data": {
      "text/plain": [
       "'b'"
      ]
     },
     "execution_count": 2,
     "metadata": {},
     "output_type": "execute_result"
    }
   ],
   "source": [
    "os.path.basename('a//b')"
   ]
  },
  {
   "cell_type": "code",
   "execution_count": 3,
   "metadata": {},
   "outputs": [
    {
     "data": {
      "text/plain": [
       "'C:\\\\Users\\\\nica\\\\OneDrive'"
      ]
     },
     "execution_count": 3,
     "metadata": {},
     "output_type": "execute_result"
    }
   ],
   "source": [
    "os.environ['ONEDRIVE']"
   ]
  },
  {
   "cell_type": "code",
   "execution_count": 1,
   "metadata": {},
   "outputs": [],
   "source": [
    "from http.server import HTTPServer, BaseHTTPRequestHandler"
   ]
  },
  {
   "cell_type": "code",
   "execution_count": 4,
   "metadata": {},
   "outputs": [
    {
     "name": "stdout",
     "output_type": "stream",
     "text": [
      "Help on class HTTPServer in module http.server:\n",
      "\n",
      "class HTTPServer(socketserver.TCPServer)\n",
      " |  HTTPServer(server_address, RequestHandlerClass, bind_and_activate=True)\n",
      " |  \n",
      " |  Base class for various socket-based server classes.\n",
      " |  \n",
      " |  Defaults to synchronous IP stream (i.e., TCP).\n",
      " |  \n",
      " |  Methods for the caller:\n",
      " |  \n",
      " |  - __init__(server_address, RequestHandlerClass, bind_and_activate=True)\n",
      " |  - serve_forever(poll_interval=0.5)\n",
      " |  - shutdown()\n",
      " |  - handle_request()  # if you don't use serve_forever()\n",
      " |  - fileno() -> int   # for selector\n",
      " |  \n",
      " |  Methods that may be overridden:\n",
      " |  \n",
      " |  - server_bind()\n",
      " |  - server_activate()\n",
      " |  - get_request() -> request, client_address\n",
      " |  - handle_timeout()\n",
      " |  - verify_request(request, client_address)\n",
      " |  - process_request(request, client_address)\n",
      " |  - shutdown_request(request)\n",
      " |  - close_request(request)\n",
      " |  - handle_error()\n",
      " |  \n",
      " |  Methods for derived classes:\n",
      " |  \n",
      " |  - finish_request(request, client_address)\n",
      " |  \n",
      " |  Class variables that may be overridden by derived classes or\n",
      " |  instances:\n",
      " |  \n",
      " |  - timeout\n",
      " |  - address_family\n",
      " |  - socket_type\n",
      " |  - request_queue_size (only for stream sockets)\n",
      " |  - allow_reuse_address\n",
      " |  \n",
      " |  Instance variables:\n",
      " |  \n",
      " |  - server_address\n",
      " |  - RequestHandlerClass\n",
      " |  - socket\n",
      " |  \n",
      " |  Method resolution order:\n",
      " |      HTTPServer\n",
      " |      socketserver.TCPServer\n",
      " |      socketserver.BaseServer\n",
      " |      builtins.object\n",
      " |  \n",
      " |  Methods defined here:\n",
      " |  \n",
      " |  server_bind(self)\n",
      " |      Override server_bind to store the server name.\n",
      " |  \n",
      " |  ----------------------------------------------------------------------\n",
      " |  Data and other attributes defined here:\n",
      " |  \n",
      " |  allow_reuse_address = 1\n",
      " |  \n",
      " |  ----------------------------------------------------------------------\n",
      " |  Methods inherited from socketserver.TCPServer:\n",
      " |  \n",
      " |  __init__(self, server_address, RequestHandlerClass, bind_and_activate=True)\n",
      " |      Constructor.  May be extended, do not override.\n",
      " |  \n",
      " |  close_request(self, request)\n",
      " |      Called to clean up an individual request.\n",
      " |  \n",
      " |  fileno(self)\n",
      " |      Return socket file number.\n",
      " |      \n",
      " |      Interface required by selector.\n",
      " |  \n",
      " |  get_request(self)\n",
      " |      Get the request and client address from the socket.\n",
      " |      \n",
      " |      May be overridden.\n",
      " |  \n",
      " |  server_activate(self)\n",
      " |      Called by constructor to activate the server.\n",
      " |      \n",
      " |      May be overridden.\n",
      " |  \n",
      " |  server_close(self)\n",
      " |      Called to clean-up the server.\n",
      " |      \n",
      " |      May be overridden.\n",
      " |  \n",
      " |  shutdown_request(self, request)\n",
      " |      Called to shutdown and close an individual request.\n",
      " |  \n",
      " |  ----------------------------------------------------------------------\n",
      " |  Data and other attributes inherited from socketserver.TCPServer:\n",
      " |  \n",
      " |  address_family = <AddressFamily.AF_INET: 2>\n",
      " |  \n",
      " |  request_queue_size = 5\n",
      " |  \n",
      " |  socket_type = <SocketKind.SOCK_STREAM: 1>\n",
      " |  \n",
      " |  ----------------------------------------------------------------------\n",
      " |  Methods inherited from socketserver.BaseServer:\n",
      " |  \n",
      " |  __enter__(self)\n",
      " |  \n",
      " |  __exit__(self, *args)\n",
      " |  \n",
      " |  finish_request(self, request, client_address)\n",
      " |      Finish one request by instantiating RequestHandlerClass.\n",
      " |  \n",
      " |  handle_error(self, request, client_address)\n",
      " |      Handle an error gracefully.  May be overridden.\n",
      " |      \n",
      " |      The default is to print a traceback and continue.\n",
      " |  \n",
      " |  handle_request(self)\n",
      " |      Handle one request, possibly blocking.\n",
      " |      \n",
      " |      Respects self.timeout.\n",
      " |  \n",
      " |  handle_timeout(self)\n",
      " |      Called if no new request arrives within self.timeout.\n",
      " |      \n",
      " |      Overridden by ForkingMixIn.\n",
      " |  \n",
      " |  process_request(self, request, client_address)\n",
      " |      Call finish_request.\n",
      " |      \n",
      " |      Overridden by ForkingMixIn and ThreadingMixIn.\n",
      " |  \n",
      " |  serve_forever(self, poll_interval=0.5)\n",
      " |      Handle one request at a time until shutdown.\n",
      " |      \n",
      " |      Polls for shutdown every poll_interval seconds. Ignores\n",
      " |      self.timeout. If you need to do periodic tasks, do them in\n",
      " |      another thread.\n",
      " |  \n",
      " |  service_actions(self)\n",
      " |      Called by the serve_forever() loop.\n",
      " |      \n",
      " |      May be overridden by a subclass / Mixin to implement any code that\n",
      " |      needs to be run during the loop.\n",
      " |  \n",
      " |  shutdown(self)\n",
      " |      Stops the serve_forever loop.\n",
      " |      \n",
      " |      Blocks until the loop has finished. This must be called while\n",
      " |      serve_forever() is running in another thread, or it will\n",
      " |      deadlock.\n",
      " |  \n",
      " |  verify_request(self, request, client_address)\n",
      " |      Verify the request.  May be overridden.\n",
      " |      \n",
      " |      Return True if we should proceed with this request.\n",
      " |  \n",
      " |  ----------------------------------------------------------------------\n",
      " |  Data descriptors inherited from socketserver.BaseServer:\n",
      " |  \n",
      " |  __dict__\n",
      " |      dictionary for instance variables (if defined)\n",
      " |  \n",
      " |  __weakref__\n",
      " |      list of weak references to the object (if defined)\n",
      " |  \n",
      " |  ----------------------------------------------------------------------\n",
      " |  Data and other attributes inherited from socketserver.BaseServer:\n",
      " |  \n",
      " |  timeout = None\n",
      "\n"
     ]
    }
   ],
   "source": [
    "help(HTTPServer)"
   ]
  },
  {
   "cell_type": "code",
   "execution_count": 3,
   "metadata": {},
   "outputs": [
    {
     "name": "stdout",
     "output_type": "stream",
     "text": [
      "Help on class BaseHTTPRequestHandler in module http.server:\n",
      "\n",
      "class BaseHTTPRequestHandler(socketserver.StreamRequestHandler)\n",
      " |  BaseHTTPRequestHandler(request, client_address, server)\n",
      " |  \n",
      " |  HTTP request handler base class.\n",
      " |  \n",
      " |  The following explanation of HTTP serves to guide you through the\n",
      " |  code as well as to expose any misunderstandings I may have about\n",
      " |  HTTP (so you don't need to read the code to figure out I'm wrong\n",
      " |  :-).\n",
      " |  \n",
      " |  HTTP (HyperText Transfer Protocol) is an extensible protocol on\n",
      " |  top of a reliable stream transport (e.g. TCP/IP).  The protocol\n",
      " |  recognizes three parts to a request:\n",
      " |  \n",
      " |  1. One line identifying the request type and path\n",
      " |  2. An optional set of RFC-822-style headers\n",
      " |  3. An optional data part\n",
      " |  \n",
      " |  The headers and data are separated by a blank line.\n",
      " |  \n",
      " |  The first line of the request has the form\n",
      " |  \n",
      " |  <command> <path> <version>\n",
      " |  \n",
      " |  where <command> is a (case-sensitive) keyword such as GET or POST,\n",
      " |  <path> is a string containing path information for the request,\n",
      " |  and <version> should be the string \"HTTP/1.0\" or \"HTTP/1.1\".\n",
      " |  <path> is encoded using the URL encoding scheme (using %xx to signify\n",
      " |  the ASCII character with hex code xx).\n",
      " |  \n",
      " |  The specification specifies that lines are separated by CRLF but\n",
      " |  for compatibility with the widest range of clients recommends\n",
      " |  servers also handle LF.  Similarly, whitespace in the request line\n",
      " |  is treated sensibly (allowing multiple spaces between components\n",
      " |  and allowing trailing whitespace).\n",
      " |  \n",
      " |  Similarly, for output, lines ought to be separated by CRLF pairs\n",
      " |  but most clients grok LF characters just fine.\n",
      " |  \n",
      " |  If the first line of the request has the form\n",
      " |  \n",
      " |  <command> <path>\n",
      " |  \n",
      " |  (i.e. <version> is left out) then this is assumed to be an HTTP\n",
      " |  0.9 request; this form has no optional headers and data part and\n",
      " |  the reply consists of just the data.\n",
      " |  \n",
      " |  The reply form of the HTTP 1.x protocol again has three parts:\n",
      " |  \n",
      " |  1. One line giving the response code\n",
      " |  2. An optional set of RFC-822-style headers\n",
      " |  3. The data\n",
      " |  \n",
      " |  Again, the headers and data are separated by a blank line.\n",
      " |  \n",
      " |  The response code line has the form\n",
      " |  \n",
      " |  <version> <responsecode> <responsestring>\n",
      " |  \n",
      " |  where <version> is the protocol version (\"HTTP/1.0\" or \"HTTP/1.1\"),\n",
      " |  <responsecode> is a 3-digit response code indicating success or\n",
      " |  failure of the request, and <responsestring> is an optional\n",
      " |  human-readable string explaining what the response code means.\n",
      " |  \n",
      " |  This server parses the request and the headers, and then calls a\n",
      " |  function specific to the request type (<command>).  Specifically,\n",
      " |  a request SPAM will be handled by a method do_SPAM().  If no\n",
      " |  such method exists the server sends an error response to the\n",
      " |  client.  If it exists, it is called with no arguments:\n",
      " |  \n",
      " |  do_SPAM()\n",
      " |  \n",
      " |  Note that the request name is case sensitive (i.e. SPAM and spam\n",
      " |  are different requests).\n",
      " |  \n",
      " |  The various request details are stored in instance variables:\n",
      " |  \n",
      " |  - client_address is the client IP address in the form (host,\n",
      " |  port);\n",
      " |  \n",
      " |  - command, path and version are the broken-down request line;\n",
      " |  \n",
      " |  - headers is an instance of email.message.Message (or a derived\n",
      " |  class) containing the header information;\n",
      " |  \n",
      " |  - rfile is a file object open for reading positioned at the\n",
      " |  start of the optional input data part;\n",
      " |  \n",
      " |  - wfile is a file object open for writing.\n",
      " |  \n",
      " |  IT IS IMPORTANT TO ADHERE TO THE PROTOCOL FOR WRITING!\n",
      " |  \n",
      " |  The first thing to be written must be the response line.  Then\n",
      " |  follow 0 or more header lines, then a blank line, and then the\n",
      " |  actual data (if any).  The meaning of the header lines depends on\n",
      " |  the command executed by the server; in most cases, when data is\n",
      " |  returned, there should be at least one header line of the form\n",
      " |  \n",
      " |  Content-type: <type>/<subtype>\n",
      " |  \n",
      " |  where <type> and <subtype> should be registered MIME types,\n",
      " |  e.g. \"text/html\" or \"text/plain\".\n",
      " |  \n",
      " |  Method resolution order:\n",
      " |      BaseHTTPRequestHandler\n",
      " |      socketserver.StreamRequestHandler\n",
      " |      socketserver.BaseRequestHandler\n",
      " |      builtins.object\n",
      " |  \n",
      " |  Methods defined here:\n",
      " |  \n",
      " |  address_string(self)\n",
      " |      Return the client address.\n",
      " |  \n",
      " |  date_time_string(self, timestamp=None)\n",
      " |      Return the current date and time formatted for a message header.\n",
      " |  \n",
      " |  end_headers(self)\n",
      " |      Send the blank line ending the MIME headers.\n",
      " |  \n",
      " |  flush_headers(self)\n",
      " |  \n",
      " |  handle(self)\n",
      " |      Handle multiple requests if necessary.\n",
      " |  \n",
      " |  handle_expect_100(self)\n",
      " |      Decide what to do with an \"Expect: 100-continue\" header.\n",
      " |      \n",
      " |      If the client is expecting a 100 Continue response, we must\n",
      " |      respond with either a 100 Continue or a final response before\n",
      " |      waiting for the request body. The default is to always respond\n",
      " |      with a 100 Continue. You can behave differently (for example,\n",
      " |      reject unauthorized requests) by overriding this method.\n",
      " |      \n",
      " |      This method should either return True (possibly after sending\n",
      " |      a 100 Continue response) or send an error response and return\n",
      " |      False.\n",
      " |  \n",
      " |  handle_one_request(self)\n",
      " |      Handle a single HTTP request.\n",
      " |      \n",
      " |      You normally don't need to override this method; see the class\n",
      " |      __doc__ string for information on how to handle specific HTTP\n",
      " |      commands such as GET and POST.\n",
      " |  \n",
      " |  log_date_time_string(self)\n",
      " |      Return the current time formatted for logging.\n",
      " |  \n",
      " |  log_error(self, format, *args)\n",
      " |      Log an error.\n",
      " |      \n",
      " |      This is called when a request cannot be fulfilled.  By\n",
      " |      default it passes the message on to log_message().\n",
      " |      \n",
      " |      Arguments are the same as for log_message().\n",
      " |      \n",
      " |      XXX This should go to the separate error log.\n",
      " |  \n",
      " |  log_message(self, format, *args)\n",
      " |      Log an arbitrary message.\n",
      " |      \n",
      " |      This is used by all other logging functions.  Override\n",
      " |      it if you have specific logging wishes.\n",
      " |      \n",
      " |      The first argument, FORMAT, is a format string for the\n",
      " |      message to be logged.  If the format string contains\n",
      " |      any % escapes requiring parameters, they should be\n",
      " |      specified as subsequent arguments (it's just like\n",
      " |      printf!).\n",
      " |      \n",
      " |      The client ip and current date/time are prefixed to\n",
      " |      every message.\n",
      " |  \n",
      " |  log_request(self, code='-', size='-')\n",
      " |      Log an accepted request.\n",
      " |      \n",
      " |      This is called by send_response().\n",
      " |  \n",
      " |  parse_request(self)\n",
      " |      Parse a request (internal).\n",
      " |      \n",
      " |      The request should be stored in self.raw_requestline; the results\n",
      " |      are in self.command, self.path, self.request_version and\n",
      " |      self.headers.\n",
      " |      \n",
      " |      Return True for success, False for failure; on failure, any relevant\n",
      " |      error response has already been sent back.\n",
      " |  \n",
      " |  send_error(self, code, message=None, explain=None)\n",
      " |      Send and log an error reply.\n",
      " |      \n",
      " |      Arguments are\n",
      " |      * code:    an HTTP error code\n",
      " |                 3 digits\n",
      " |      * message: a simple optional 1 line reason phrase.\n",
      " |                 *( HTAB / SP / VCHAR / %x80-FF )\n",
      " |                 defaults to short entry matching the response code\n",
      " |      * explain: a detailed message defaults to the long entry\n",
      " |                 matching the response code.\n",
      " |      \n",
      " |      This sends an error response (so it must be called before any\n",
      " |      output has been generated), logs the error, and finally sends\n",
      " |      a piece of HTML explaining the error to the user.\n",
      " |  \n",
      " |  send_header(self, keyword, value)\n",
      " |      Send a MIME header to the headers buffer.\n",
      " |  \n",
      " |  send_response(self, code, message=None)\n",
      " |      Add the response header to the headers buffer and log the\n",
      " |      response code.\n",
      " |      \n",
      " |      Also send two standard headers with the server software\n",
      " |      version and the current date.\n",
      " |  \n",
      " |  send_response_only(self, code, message=None)\n",
      " |      Send the response header only.\n",
      " |  \n",
      " |  version_string(self)\n",
      " |      Return the server software version string.\n",
      " |  \n",
      " |  ----------------------------------------------------------------------\n",
      " |  Data and other attributes defined here:\n",
      " |  \n",
      " |  MessageClass = <class 'http.client.HTTPMessage'>\n",
      " |      Basic message object.\n",
      " |      \n",
      " |      A message object is defined as something that has a bunch of RFC 2822\n",
      " |      headers and a payload.  It may optionally have an envelope header\n",
      " |      (a.k.a. Unix-From or From_ header).  If the message is a container (i.e. a\n",
      " |      multipart or a message/rfc822), then the payload is a list of Message\n",
      " |      objects, otherwise it is a string.\n",
      " |      \n",
      " |      Message objects implement part of the `mapping' interface, which assumes\n",
      " |      there is exactly one occurrence of the header per message.  Some headers\n",
      " |      do in fact appear multiple times (e.g. Received) and for those headers,\n",
      " |      you must use the explicit API to set or get all the headers.  Not all of\n",
      " |      the mapping methods are implemented.\n",
      " |  \n",
      " |  default_request_version = 'HTTP/0.9'\n",
      " |  \n",
      " |  error_content_type = 'text/html;charset=utf-8'\n",
      " |  \n",
      " |  error_message_format = '<!DOCTYPE HTML PUBLIC \"-//W3C//DTD HTML 4.01//...\n",
      " |  \n",
      " |  monthname = [None, 'Jan', 'Feb', 'Mar', 'Apr', 'May', 'Jun', 'Jul', 'A...\n",
      " |  \n",
      " |  protocol_version = 'HTTP/1.0'\n",
      " |  \n",
      " |  responses = {<HTTPStatus.CONTINUE: 100>: ('Continue', 'Request receive...\n",
      " |  \n",
      " |  server_version = 'BaseHTTP/0.6'\n",
      " |  \n",
      " |  sys_version = 'Python/3.7.4'\n",
      " |  \n",
      " |  weekdayname = ['Mon', 'Tue', 'Wed', 'Thu', 'Fri', 'Sat', 'Sun']\n",
      " |  \n",
      " |  ----------------------------------------------------------------------\n",
      " |  Methods inherited from socketserver.StreamRequestHandler:\n",
      " |  \n",
      " |  finish(self)\n",
      " |  \n",
      " |  setup(self)\n",
      " |  \n",
      " |  ----------------------------------------------------------------------\n",
      " |  Data and other attributes inherited from socketserver.StreamRequestHandler:\n",
      " |  \n",
      " |  disable_nagle_algorithm = False\n",
      " |  \n",
      " |  rbufsize = -1\n",
      " |  \n",
      " |  timeout = None\n",
      " |  \n",
      " |  wbufsize = 0\n",
      " |  \n",
      " |  ----------------------------------------------------------------------\n",
      " |  Methods inherited from socketserver.BaseRequestHandler:\n",
      " |  \n",
      " |  __init__(self, request, client_address, server)\n",
      " |      Initialize self.  See help(type(self)) for accurate signature.\n",
      " |  \n",
      " |  ----------------------------------------------------------------------\n",
      " |  Data descriptors inherited from socketserver.BaseRequestHandler:\n",
      " |  \n",
      " |  __dict__\n",
      " |      dictionary for instance variables (if defined)\n",
      " |  \n",
      " |  __weakref__\n",
      " |      list of weak references to the object (if defined)\n",
      "\n"
     ]
    }
   ],
   "source": [
    "help(BaseHTTPRequestHandler)"
   ]
  },
  {
   "cell_type": "code",
   "execution_count": 5,
   "metadata": {},
   "outputs": [],
   "source": [
    "a = (1, 2)"
   ]
  },
  {
   "cell_type": "code",
   "execution_count": 12,
   "metadata": {},
   "outputs": [
    {
     "data": {
      "text/plain": [
       "'1, 2'"
      ]
     },
     "execution_count": 12,
     "metadata": {},
     "output_type": "execute_result"
    }
   ],
   "source": [
    "'{}, {}'.format(*a)"
   ]
  },
  {
   "cell_type": "code",
   "execution_count": 7,
   "metadata": {},
   "outputs": [
    {
     "data": {
      "text/plain": [
       "1"
      ]
     },
     "execution_count": 7,
     "metadata": {},
     "output_type": "execute_result"
    }
   ],
   "source": [
    "a[0]"
   ]
  },
  {
   "cell_type": "code",
   "execution_count": null,
   "metadata": {},
   "outputs": [],
   "source": []
  }
 ],
 "metadata": {
  "kernelspec": {
   "display_name": "Python 3",
   "language": "python",
   "name": "python3"
  },
  "language_info": {
   "codemirror_mode": {
    "name": "ipython",
    "version": 3
   },
   "file_extension": ".py",
   "mimetype": "text/x-python",
   "name": "python",
   "nbconvert_exporter": "python",
   "pygments_lexer": "ipython3",
   "version": "3.7.4"
  }
 },
 "nbformat": 4,
 "nbformat_minor": 4
}
